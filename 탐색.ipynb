{
 "cells": [
  {
   "cell_type": "markdown",
   "metadata": {},
   "source": [
    "### 순차 탐색"
   ]
  },
  {
   "cell_type": "code",
   "execution_count": 3,
   "metadata": {},
   "outputs": [
    {
     "name": "stdout",
     "output_type": "stream",
     "text": [
      "생성할 원소개수와 찾을 문자열 입력하시오\n",
      "5 park\n",
      "array를 입력하시오\n",
      "park lee kim ju sang\n",
      "1\n"
     ]
    }
   ],
   "source": [
    "def sequential_search(n,target, array):\n",
    "    for i in range(n):\n",
    "        if array[i]==target:\n",
    "            return i+1\n",
    "        \n",
    "print(\"생성할 원소개수와 찾을 문자열 입력하시오\")\n",
    "input_data = input().split()\n",
    "\n",
    "n = int(input_data[0])\n",
    "target = input_data[1]\n",
    "\n",
    "print(\"array를 입력하시오\")\n",
    "array = input().split()\n",
    "\n",
    "print(sequential_search(n, target, array))"
   ]
  },
  {
   "cell_type": "markdown",
   "metadata": {},
   "source": [
    "### 이진 탐색(재귀 함수 풀이)\n",
    "- 이진 탐색은 전제 조건이 데이터 정렬!!\n"
   ]
  },
  {
   "cell_type": "code",
   "execution_count": 5,
   "metadata": {},
   "outputs": [
    {
     "name": "stdout",
     "output_type": "stream",
     "text": [
      "10 7\n",
      "3 5 6 7 18 20 22 24 25 27\n",
      "3\n"
     ]
    }
   ],
   "source": [
    "def binary_search(array, target, start, end):\n",
    "    if start>end:\n",
    "        return None\n",
    "    mid = (start+end)//2 \n",
    "    \n",
    "    if array[mid] == target:\n",
    "        return mid\n",
    "    elif array[mid]>target:\n",
    "        return binary_search(array,target, start, mid-1)\n",
    "    elif array[mid]<target:\n",
    "        return binary_search(array,target, mid+1, end)\n",
    "    \n",
    "n,target = list(map(int, input().split()))\n",
    "array = list(map(int,input().split()))\n",
    "\n",
    "result = binary_search(array, target, 0, n-1)\n",
    "if result==None:\n",
    "    print(\"no answer\")\n",
    "else:\n",
    "    print(result+1)"
   ]
  },
  {
   "cell_type": "markdown",
   "metadata": {},
   "source": [
    "### 이진 탐색(반복문)"
   ]
  },
  {
   "cell_type": "code",
   "execution_count": 10,
   "metadata": {},
   "outputs": [
    {
     "name": "stdout",
     "output_type": "stream",
     "text": [
      "10 7\n",
      "1 3 5 7 9 11 13 15 17 19\n",
      "4\n"
     ]
    }
   ],
   "source": [
    "def binary_search(array,target, start, end):\n",
    "    while start<=end:\n",
    "        mid = (start+end)//2\n",
    "        \n",
    "        if array[mid]==target:\n",
    "            return mid\n",
    "        elif array[mid]>target:\n",
    "            end = mid-1\n",
    "        elif array[mid]<target:\n",
    "            start = mid+1\n",
    "        \n",
    "    return None\n",
    "\n",
    "\n",
    "n, target = list(map(int, input().split()))\n",
    "arary = list(map(int, input().split()))\n",
    "\n",
    "result = binary_search(array, target, 0, n-1)\n",
    "if result==None:\n",
    "    print(\"NO ANSWER\")\n",
    "else:\n",
    "    print(result+1)"
   ]
  },
  {
   "cell_type": "markdown",
   "metadata": {},
   "source": [
    "### 부품찾기(이진 탐색)"
   ]
  },
  {
   "cell_type": "code",
   "execution_count": 13,
   "metadata": {},
   "outputs": [
    {
     "name": "stdout",
     "output_type": "stream",
     "text": [
      "5 \n",
      "8 3 7 9 2\n",
      "3 \n",
      "5 7 9\n",
      "No Yes Yes "
     ]
    }
   ],
   "source": [
    "n = int(input())\n",
    "store = list(map(int, input().split()))\n",
    "\n",
    "m = int(input())\n",
    "custom = list(map(int, input().split()))\n",
    "\n",
    "store = sorted(store)\n",
    "custom = sorted(custom)\n",
    "\n",
    "def binary_search(array, target, start, end):\n",
    "    while start<=end:\n",
    "        mid = (start+end)//2\n",
    "        \n",
    "        if array[mid]==target:\n",
    "            return mid\n",
    "        elif array[mid]<target:\n",
    "            start = mid + 1\n",
    "        else:\n",
    "            end = mid - 1\n",
    "            \n",
    "    return None\n",
    "\n",
    "\n",
    "for i in custom:\n",
    "    result = binary_search(store, i, 0, n-1)\n",
    "    if result!=None:\n",
    "        print(\"Yes\", end=' ')\n",
    "    else:\n",
    "        print(\"No\", end=' ')\n",
    "    \n",
    "    "
   ]
  },
  {
   "cell_type": "markdown",
   "metadata": {},
   "source": [
    "### 부품찾기(계수정렬)"
   ]
  },
  {
   "cell_type": "code",
   "execution_count": 17,
   "metadata": {},
   "outputs": [
    {
     "name": "stdout",
     "output_type": "stream",
     "text": [
      "5\n",
      "8 3 7 9 2\n",
      "3\n",
      "5 7 9\n",
      "no yes yes "
     ]
    }
   ],
   "source": [
    "n = int(input())\n",
    "array = [0]*1000001 ## 모든 원소를 포함시킬 수 있는 리스트 생성\n",
    "\n",
    "for i in input().split():\n",
    "    array[int(i)] = 1\n",
    "    \n",
    "    \n",
    "m = int(input())\n",
    "custom = list(map(int, input().split()))\n",
    "\n",
    "for i in custom:\n",
    "    if array[i]==1:\n",
    "        print('yes', end=' ')\n",
    "    else:\n",
    "        print('no', end=' ')"
   ]
  },
  {
   "cell_type": "markdown",
   "metadata": {},
   "source": [
    "### 부품찾기(집합 자료형)"
   ]
  },
  {
   "cell_type": "code",
   "execution_count": 20,
   "metadata": {},
   "outputs": [
    {
     "name": "stdout",
     "output_type": "stream",
     "text": [
      "5 \n",
      "8 3 7 9 2\n",
      "3\n",
      "5 7 9\n",
      "no yes yes "
     ]
    }
   ],
   "source": [
    "n = int(input())\n",
    "store = set(map(int, input().split()))\n",
    "\n",
    "m = int(input())\n",
    "custom = list(map(int, input().split()))\n",
    "\n",
    "for i in custom:\n",
    "    if i in store:\n",
    "        print('yes' ,end=' ')\n",
    "    else:\n",
    "        print('no', end=' ')"
   ]
  },
  {
   "cell_type": "markdown",
   "metadata": {},
   "source": [
    "### 떡볶이 떡 만들기"
   ]
  },
  {
   "cell_type": "code",
   "execution_count": 39,
   "metadata": {},
   "outputs": [
    {
     "name": "stdout",
     "output_type": "stream",
     "text": [
      "4 6\n",
      "19 17 10 15\n",
      "15\n"
     ]
    }
   ],
   "source": [
    "n,m = list(map(int, input().split(' ')))\n",
    "\n",
    "input_data = list(map(int, input().split()))\n",
    "\n",
    "start = 0\n",
    "end = max(input_data)\n",
    "\n",
    "result = 0\n",
    "while(start<=end):\n",
    "    total = 0\n",
    "    mid = (start+end)//2\n",
    "    \n",
    "    for x in input_data:\n",
    "        if x>mid:\n",
    "            total += x-mid\n",
    "    \n",
    "    if total < m:\n",
    "        end = mid-1\n",
    "    else:\n",
    "        result = mid\n",
    "        start = mid+1\n",
    "        \n",
    "        \n",
    "print(result)\n"
   ]
  }
 ],
 "metadata": {
  "kernelspec": {
   "display_name": "Python 3",
   "language": "python",
   "name": "python3"
  },
  "language_info": {
   "codemirror_mode": {
    "name": "ipython",
    "version": 3
   },
   "file_extension": ".py",
   "mimetype": "text/x-python",
   "name": "python",
   "nbconvert_exporter": "python",
   "pygments_lexer": "ipython3",
   "version": "3.8.3"
  }
 },
 "nbformat": 4,
 "nbformat_minor": 4
}
