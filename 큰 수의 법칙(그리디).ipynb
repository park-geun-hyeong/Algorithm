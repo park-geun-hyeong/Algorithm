{
 "cells": [
  {
   "cell_type": "code",
   "execution_count": 4,
   "metadata": {},
   "outputs": [],
   "source": [
    "### 주어진 수들을 m번 더하여 가장 큰수를 만드는 법칙, 단 배열의 특정 인덱스에 해당하는 수가 연속해서 k번을 초과하여 더해질 수 없다.###"
   ]
  },
  {
   "cell_type": "code",
   "execution_count": 2,
   "metadata": {},
   "outputs": [
    {
     "name": "stdout",
     "output_type": "stream",
     "text": [
      "5 8 3\n",
      "2 4 5 4 6\n",
      "46\n"
     ]
    }
   ],
   "source": [
    "n,m,k=map(int,input().split())  #n,m,k를 공백으로 구분하여 입력받기\n",
    "data=list(map(int,input().split())) #n개의 수를 공백으로 구분하여 입력받기\n",
    "\n",
    "data.sort() #입력받은 n개의 수를 오름차순으로 정렬하기\n",
    "first=data[n-1] #입력받은 n개의 수들 중 가장 큰 수 정의하기\n",
    "second=data[n-2] #입력받은 n개의 수들 중 가장 큰 수 정의하기\n",
    "\n",
    "result = 0 #result 값 0으로 초기화\n",
    "\n",
    "while True: # while문 반복\n",
    "    for i in range(k): # k번 만큼 반복\n",
    "        if m == 0: #m이 0 이라면 반복문 탈출\n",
    "            break\n",
    "        result += first # k번만큼 가장 큰 수 더하기\n",
    "        m -= 1 #더할 때 마다 m은 1씩 감소\n",
    "    if m == 0: # 1씩 감소하는 m 이 0이 될경우 반복문 탈출\n",
    "        break\n",
    "    result+= second # k 번만큼 가장 큰 수 더하는 것이 끝나면 두번쨰 큰 수 한번더하기\n",
    "    m -= 1 #두번째 큰 수 더할 경우 m 1씩 감소\n",
    "\n",
    "print(result)"
   ]
  },
  {
   "cell_type": "code",
   "execution_count": 3,
   "metadata": {},
   "outputs": [
    {
     "name": "stdout",
     "output_type": "stream",
     "text": [
      "5 8 3\n",
      "2 4 5 4 6\n",
      "46\n"
     ]
    }
   ],
   "source": [
    "n,m,k=map(int, input().split())\n",
    "data=list(map(int, input().split()))\n",
    "\n",
    "data.sort()\n",
    "first=data[n-1]\n",
    "second=data[n-2]\n",
    "\n",
    "count= int(m/(k+1))*k #큰 수가 더해지는 갯수 구하기. 큰수를 k번 더하고 둘째 큰수를 1번 더하는 수열의 크기는 (k+1) 이다.\n",
    "                      #m/(k+1)*k를 할 경우 큰 수가 더해지는 갯수가 구해진다(나누어 떨어질 경우)\n",
    "count= count+m%(k+1) # 나누어 떨어지지 않을 경우 나머지 개수만큼 추가로 큰수가 더해지므로 m%(k+1)을 더해주면 된다.\n",
    "\n",
    "result=0 \n",
    "result+=count* first #result값에다 큰수x큰수의 개수 저장\n",
    "result+=(m-count) * second #result값에다 둘째큰수 x 둘쨰큰수 개수 저장\n",
    "\n",
    "print(result)"
   ]
  }
 ],
 "metadata": {
  "kernelspec": {
   "display_name": "Python 3",
   "language": "python",
   "name": "python3"
  },
  "language_info": {
   "codemirror_mode": {
    "name": "ipython",
    "version": 3
   },
   "file_extension": ".py",
   "mimetype": "text/x-python",
   "name": "python",
   "nbconvert_exporter": "python",
   "pygments_lexer": "ipython3",
   "version": "3.8.3"
  }
 },
 "nbformat": 4,
 "nbformat_minor": 4
}
