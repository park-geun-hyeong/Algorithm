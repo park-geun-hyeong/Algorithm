{
 "cells": [
  {
   "cell_type": "markdown",
   "metadata": {},
   "source": [
    "##숫자 카드 게임 \n",
    "\n",
    "- 첫쨰 줄에 숫자 카드들이 놓인 행의 개수 N과 열의 개수 M이 공백을 기준으로 하여 각각 자연수로 주어진다\n",
    "- 둘째 줄부터 N개의 줄에 걸쳐 각 카드에 적힌 숫자가 주어진다. 각 숫자는 1이상 10000이하의 자연수이다.\n",
    "- 행에서는 가장 작은 수를 뽑아야 할 때 그 중 가장 큰수를 고르시오."
   ]
  },
  {
   "cell_type": "code",
   "execution_count": 2,
   "metadata": {},
   "outputs": [
    {
     "name": "stdout",
     "output_type": "stream",
     "text": [
      "3 5\n",
      "1 2 3 4 5\n",
      "1 4 6 2 3\n",
      "4 7 3 8 2\n",
      "2\n"
     ]
    }
   ],
   "source": [
    "n,m = map(int,input().split()) # n,m을 입력으로 받기\n",
    "\n",
    "result=0\n",
    "\n",
    "for i in range(n): # 한줄 씩 입력받아서 확인.\n",
    "    data=list(map(int, input().split()))\n",
    "    min_value=min(data) #현재 줄에서 가장 작은 수 확인\n",
    "    result=max(result, min_value) # 가장 작은 수들 중에서 가장 큰수 찾기.\n",
    "    \n",
    "print(min_value)"
   ]
  },
  {
   "cell_type": "code",
   "execution_count": 4,
   "metadata": {},
   "outputs": [
    {
     "name": "stdout",
     "output_type": "stream",
     "text": [
      "3 4\n",
      "1 2 3 4\n",
      "2 3 4 5\n",
      "3 4 5 6\n",
      "3\n"
     ]
    }
   ],
   "source": [
    "n,m= map(int, input().split())\n",
    "\n",
    "result=0\n",
    "\n",
    "for i in range(n):\n",
    "    data=list(map(int, input().split()))\n",
    "    \n",
    "    min_value=10001\n",
    "    for a in data:\n",
    "        min_value=min(min_value, a)\n",
    "    result=max(result, min_value)\n",
    "    \n",
    "print(result)"
   ]
  },
  {
   "cell_type": "code",
   "execution_count": null,
   "metadata": {},
   "outputs": [],
   "source": []
  }
 ],
 "metadata": {
  "kernelspec": {
   "display_name": "Python 3",
   "language": "python",
   "name": "python3"
  },
  "language_info": {
   "codemirror_mode": {
    "name": "ipython",
    "version": 3
   },
   "file_extension": ".py",
   "mimetype": "text/x-python",
   "name": "python",
   "nbconvert_exporter": "python",
   "pygments_lexer": "ipython3",
   "version": "3.8.3"
  }
 },
 "nbformat": 4,
 "nbformat_minor": 4
}
