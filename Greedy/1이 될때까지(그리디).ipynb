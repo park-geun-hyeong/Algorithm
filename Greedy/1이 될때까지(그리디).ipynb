{
 "cells": [
  {
   "cell_type": "markdown",
   "metadata": {},
   "source": [
    "## 1이 될 때까지\n",
    "\n",
    "- 첫 째 줄에 N과 K가 공백으로 구분되면 각각 자연수로 주어진다(n>=k)\n",
    "- 첫째 줄에 N이 1이 될 때까지 1번 혹은 2번의 과정을 수행해야 하는 횟수의 최솟값을 출력하시오\n",
    "- N이 1이 될때까지 다음의 두과정 중 하나를 반복적으로 선택 수행. \n",
    "- 1. N에서 1을 뺀다\n",
    "- 2. N을 K로 나눈다"
   ]
  },
  {
   "cell_type": "code",
   "execution_count": 1,
   "metadata": {},
   "outputs": [
    {
     "name": "stdout",
     "output_type": "stream",
     "text": [
      "16 5\n",
      "4\n"
     ]
    }
   ],
   "source": [
    "n, k = map(int,input().split())\n",
    "result= 0 \n",
    "\n",
    "while n >= k:\n",
    "    while n%k != 0: # n이 k로 나누어떨어지지 않을 경우 \n",
    "        n -= 1     \n",
    "        result += 1\n",
    "    n //= k \n",
    "    result += 1\n",
    "    \n",
    "while n > 1:\n",
    "    n -= 1\n",
    "    result += 1\n",
    "    \n",
    "print(result)"
   ]
  },
  {
   "cell_type": "code",
   "execution_count": 2,
   "metadata": {},
   "outputs": [
    {
     "name": "stdout",
     "output_type": "stream",
     "text": [
      "16 5\n",
      "4\n"
     ]
    }
   ],
   "source": [
    "n,k= map(int,input().split())\n",
    "result = 0\n",
    "\n",
    "while True:\n",
    "    target = (n//k) * k\n",
    "    result += (n - target)\n",
    "    n = target\n",
    "    if n<k:\n",
    "        break\n",
    "    result+=1\n",
    "    n //= k\n",
    "    \n",
    "result += (n-1)\n",
    "print(result)"
   ]
  },
  {
   "cell_type": "code",
   "execution_count": null,
   "metadata": {},
   "outputs": [],
   "source": []
  }
 ],
 "metadata": {
  "kernelspec": {
   "display_name": "Python 3",
   "language": "python",
   "name": "python3"
  },
  "language_info": {
   "codemirror_mode": {
    "name": "ipython",
    "version": 3
   },
   "file_extension": ".py",
   "mimetype": "text/x-python",
   "name": "python",
   "nbconvert_exporter": "python",
   "pygments_lexer": "ipython3",
   "version": "3.8.3"
  }
 },
 "nbformat": 4,
 "nbformat_minor": 4
}
