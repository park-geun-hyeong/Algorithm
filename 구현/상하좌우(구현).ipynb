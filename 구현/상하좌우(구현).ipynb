{
 "cells": [
  {
   "cell_type": "markdown",
   "metadata": {},
   "source": [
    "## 상하좌우\n",
    "\n",
    "- 첫째 줄에 공간의 크기를 나타내는 N이 주어진다.\n",
    "- 둘째 줄에 여행가 A가 이동할 계획서 내용이 주어진다.\n",
    "- 첫째 줄에 여행가 A가 최종적으로 도착할 지점의 좌표(x,y)를 공백으로 구분하여 출력한다.(공간을 벗어나는 움직임은 무시)"
   ]
  },
  {
   "cell_type": "code",
   "execution_count": 16,
   "metadata": {},
   "outputs": [
    {
     "name": "stdout",
     "output_type": "stream",
     "text": [
      "5\n",
      "R R R U D D\n",
      "4 3\n"
     ]
    }
   ],
   "source": [
    "n = int(input())\n",
    "plans= input().split()\n",
    "\n",
    "x,y = 1,1\n",
    "\n",
    "dx= [-1,1,0,0]\n",
    "dy= [0,0,-1,1]\n",
    "\n",
    "move_types=['L','R','U','D']\n",
    "\n",
    "for plan in plans:\n",
    "    for i in range(len(move_types)):\n",
    "        if plan == move_types[i]:\n",
    "            nx = x + dx[i]\n",
    "            ny = y + dy[i]\n",
    "            \n",
    "    if nx<1 or ny<1 or nx>n or ny>n:\n",
    "        continue\n",
    "    x,y = nx,ny\n",
    "        \n",
    "print(x, y)"
   ]
  },
  {
   "cell_type": "code",
   "execution_count": null,
   "metadata": {},
   "outputs": [],
   "source": []
  }
 ],
 "metadata": {
  "kernelspec": {
   "display_name": "Python 3",
   "language": "python",
   "name": "python3"
  },
  "language_info": {
   "codemirror_mode": {
    "name": "ipython",
    "version": 3
   },
   "file_extension": ".py",
   "mimetype": "text/x-python",
   "name": "python",
   "nbconvert_exporter": "python",
   "pygments_lexer": "ipython3",
   "version": "3.8.3"
  }
 },
 "nbformat": 4,
 "nbformat_minor": 4
}
